{
  "nbformat": 4,
  "nbformat_minor": 0,
  "metadata": {
    "colab": {
      "name": "LSTM_Price_index.ipynb",
      "private_outputs": true,
      "provenance": [],
      "collapsed_sections": [],
      "authorship_tag": "ABX9TyNETCnE7jwxP0D2AJ4kgvoo",
      "include_colab_link": true
    },
    "kernelspec": {
      "name": "python3",
      "display_name": "Python 3"
    },
    "accelerator": "GPU"
  },
  "cells": [
    {
      "cell_type": "markdown",
      "metadata": {
        "id": "view-in-github",
        "colab_type": "text"
      },
      "source": [
        "<a href=\"https://colab.research.google.com/github/JS-Choi513/Predicting-the-Housing-Price-Index-in-Changwon-City-Using-the-LSTM-Model/blob/main/LSTM_Price_index.ipynb\" target=\"_parent\"><img src=\"https://colab.research.google.com/assets/colab-badge.svg\" alt=\"Open In Colab\"/></a>"
      ]
    },
    {
      "cell_type": "code",
      "metadata": {
        "id": "Wj_xjqEoNWqO"
      },
      "source": [
        "!df -h\r\n",
        "!cat /proc/meminfo\r\n",
        "!cat /proc/cpuinfo\r\n",
        "!nvidia-smi"
      ],
      "execution_count": null,
      "outputs": []
    },
    {
      "cell_type": "code",
      "metadata": {
        "id": "x3zgQ588OIaY"
      },
      "source": [
        "import pandas as pd\r\n",
        "import numpy as np\r\n",
        "%matplotlib inline\r\n",
        "import matplotlib.pyplot as plt\r\n",
        "\r\n",
        "# 데이터셋 업로드 \r\n",
        "from google.colab import files\r\n",
        "\r\n",
        "#uploaded = files.upload() \r\n",
        "\r\n",
        "#for fn in uploaded.keys():\r\n",
        "#  print('User uploaded file \"{name}\" with length {length} bytes'.format(name=fn, length=len(uploaded[fn])))  \r\n",
        "data = pd.read_csv('/content/uc_housing_price.csv')\r\n",
        "data['new_Date'] = pd.to_datetime(data['date'])\r\n",
        "print(data.head())\r\n",
        "print('\\n')\r\n",
        "print(data.info())\r\n",
        "print('\\n')\r\n",
        "print(type(data['new_Date'][0]))\r\n",
        "data.drop('date', axis = 1, inplace=True)\r\n",
        "data.set_index('new_Date', inplace=True)\r\n",
        "print(data.head())\r\n",
        "print('\\n')\r\n",
        "print(data.info())\r\n",
        "#df = pd.DataFrame(data)"
      ],
      "execution_count": null,
      "outputs": []
    },
    {
      "cell_type": "code",
      "metadata": {
        "id": "3CDHwO0En1UR"
      },
      "source": [
        "data['price'].plot()"
      ],
      "execution_count": null,
      "outputs": []
    },
    {
      "cell_type": "code",
      "metadata": {
        "id": "EKxRscrOoEtJ"
      },
      "source": [
        "split_date = pd.Timestamp('01-01-2017')\r\n",
        "#split_date[0:6]\r\n",
        "#date =str(split_date)[0:7] \r\n",
        "#print(date)\r\n",
        "\r\n"
      ],
      "execution_count": null,
      "outputs": []
    },
    {
      "cell_type": "code",
      "metadata": {
        "id": "eTxN6eA6e6x4"
      },
      "source": [
        "train = df.loc[:split_date, ['price']]\r\n",
        "test = df.loc[split_date:, ['price']]\r\n",
        "\r\n",
        "ax = train.plot()\r\n",
        "test.plot(ax=ax)\r\n",
        "plt.legend(['train', 'test'])"
      ],
      "execution_count": null,
      "outputs": []
    },
    {
      "cell_type": "code",
      "metadata": {
        "id": "1o3ZFf6mgsXj"
      },
      "source": [
        "from sklearn.preprocessing import MinMaxScaler\r\n",
        "#Min-Max scaleing\r\n",
        "sc = MinMaxScaler()# 훈련데이터 분포 추정 \r\n",
        "# 훈련데이터 변환 \r\n",
        "train_sc = sc.fit_transform(train)\r\n",
        "#테스트 데이터 변환 \r\n",
        "test_sc = sc.transform(test)\r\n",
        "\r\n",
        "train_sc"
      ],
      "execution_count": null,
      "outputs": []
    },
    {
      "cell_type": "code",
      "metadata": {
        "id": "mTYORSQJhe05"
      },
      "source": [
        "train_sc_df = pd.DataFrame(train_sc, columns=['price'], index=train.index)\r\n",
        "test_sc_df = pd.DataFrame(test_sc, columns=['price'], index=test.index)\r\n",
        "train_sc_df.head()"
      ],
      "execution_count": null,
      "outputs": []
    },
    {
      "cell_type": "code",
      "metadata": {
        "id": "990Cc8UWiOpy"
      },
      "source": [
        "# LSTM 슬라이딩 윈도우 구성 과거 1년(12개월) \r\n",
        "for s in range(1, 13): \r\n",
        "    train_sc_df['shift_{}'.format(s)] = train_sc_df['price'].shift(s)\r\n",
        "    test_sc_df['shift_{}'.format(s)] = test_sc_df['price'].shift(s)\r\n",
        "\r\n",
        "train_sc_df.head(13)"
      ],
      "execution_count": null,
      "outputs": []
    },
    {
      "cell_type": "code",
      "metadata": {
        "id": "jdvlXjbanSPt"
      },
      "source": [
        "#dropna 함수로 빈값제거 \r\n",
        "X_train = train_sc_df.dropna().drop('price', axis=1)\r\n",
        "y_train = train_sc_df.dropna()[['price']]\r\n",
        "\r\n",
        "X_test = test_sc_df.dropna().drop('price', axis=1)\r\n",
        "y_test = test_sc_df.dropna()[['price']]\r\n",
        "X_train.head()"
      ],
      "execution_count": null,
      "outputs": []
    },
    {
      "cell_type": "code",
      "metadata": {
        "id": "npcvcPRzyqWF"
      },
      "source": [
        "print(type(X_train))\r\n",
        "X_train = X_train.values\r\n",
        "print(type(X_train))\r\n",
        "X_test= X_test.values\r\n",
        "y_train = y_train.values\r\n",
        "y_test = y_test.values\r\n",
        " \r\n",
        "\r\n",
        "print(X_train.shape)\r\n",
        "print(y_train.shape)\r\n",
        "#훈련데이터 x_train 은 145개의 데이터와 12개의 슬롯을 가짐 \r\n",
        "#훈련값 y_train은 145개의 데이터와 1개의 타겟값을 가짐 "
      ],
      "execution_count": null,
      "outputs": []
    },
    {
      "cell_type": "code",
      "metadata": {
        "id": "NQujokgQy6tp"
      },
      "source": [
        "#LSTM 학습을 위한 3차원 데이터 변환, size, time stamp, feature\r\n",
        "X_train_t = X_train.reshape(X_train.shape[0], 12, 1)\r\n",
        "X_test_t = X_test.reshape(X_test.shape[0], 12, 1)\r\n",
        "\r\n",
        "print(\"최종 DATA\")\r\n",
        "print(X_train_t.shape)\r\n",
        "print(X_train_t)\r\n",
        "print(y_train)"
      ],
      "execution_count": null,
      "outputs": []
    },
    {
      "cell_type": "code",
      "metadata": {
        "id": "JgqDhpOBznAa"
      },
      "source": [
        "from keras.layers import LSTM \r\n",
        "from keras.models import Sequential \r\n",
        "from keras.layers import Dense \r\n",
        "import keras.backend as K \r\n",
        "from keras.callbacks import EarlyStopping\r\n",
        "\r\n",
        "K.clear_session()\r\n",
        "    \r\n",
        "model = Sequential() # Sequeatial Model \r\n",
        "model.add(LSTM(20, input_shape=(12, 1))) # (timestep, feature) #20개의 메모리셀을 가짐, 입력데이터 모델 정보 12타임스택, 1피터 \r\n",
        "model.add(Dense(1)) # output = 1 #완전연결 레이어 예측하고자 하는 값이 하나이므로 1 \r\n",
        "model.compile(loss='mean_squared_error', optimizer='adam') \r\n",
        "#컴파일 호출으로 학습과정 설정, 훈련과정 설정,loss함수 설정 오차제곱평균 사용 \r\n",
        "model.summary()\r\n",
        "#모델구성 확인 "
      ],
      "execution_count": null,
      "outputs": []
    },
    {
      "cell_type": "code",
      "metadata": {
        "id": "uzfPQXKX0fCw"
      },
      "source": [
        "early_stop = EarlyStopping(monitor='loss', patience=1, verbose=1)\r\n",
        "# 모델 훈련(훈련데이터, 지도학습 데티어, 에폭: 전체입력데이터 순회 횟수\r\n",
        "# 100이면 전체 데이터를 100번 사용해서 학습 \r\n",
        "#, 배치 사이즈(모델이 데이터를 작은 배치로 나누고 훈련과정에서 이 배치를 순회)\r\n",
        "# verbose 훈련진행과정 보여줌 1일경우 진행막대 출력, 2일 경우 배치마다 손실정보 출력 \r\n",
        "model.fit(X_train_t, y_train, epochs=100,\r\n",
        "          batch_size=30, verbose=1, callbacks=[early_stop])"
      ],
      "execution_count": null,
      "outputs": []
    },
    {
      "cell_type": "code",
      "metadata": {
        "id": "PBdQpEPU2aDE"
      },
      "source": [
        "score = model.evaluate(X_test_t, y_test, batch_size=30)\r\n",
        "print(score)"
      ],
      "execution_count": null,
      "outputs": []
    },
    {
      "cell_type": "code",
      "metadata": {
        "id": "ILShPzLY2tM8"
      },
      "source": [
        "train_sc_df.describe()\r\n",
        "test_sc_df.describe()"
      ],
      "execution_count": null,
      "outputs": []
    },
    {
      "cell_type": "code",
      "metadata": {
        "id": "ILtfJ8im24GW"
      },
      "source": [
        "%matplotlib inline\r\n",
        "import matplotlib.pyplot as plt\r\n",
        "\r\n",
        "\r\n",
        "y_pred = model.predict(X_test_t, batch_size=32)\r\n",
        "plt.scatter(y_test, y_pred)\r\n",
        "plt.xlabel(\"Price Index: $Y_i$\")\r\n",
        "plt.ylabel(\"Predicted price Index: $\\hat{Y}_i$\")\r\n",
        "plt.title(\"Prices vs Predicted price Index: $Y_i$ vs $\\hat{Y}_i$\")"
      ],
      "execution_count": null,
      "outputs": []
    }
  ]
}